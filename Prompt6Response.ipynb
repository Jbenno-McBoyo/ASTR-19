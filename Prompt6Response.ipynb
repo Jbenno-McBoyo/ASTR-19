{
 "cells": [
  {
   "cell_type": "code",
   "execution_count": 1,
   "id": "8a60ad37-f010-412c-a2da-37d125392d78",
   "metadata": {},
   "outputs": [],
   "source": [
    "def returnsin(x):\n",
    "    return sin(x)"
   ]
  },
  {
   "cell_type": "markdown",
   "id": "54e33270-7639-4da2-9a7b-147747806026",
   "metadata": {},
   "source": [
    "This function will return sin(x) of any value x passed to the function"
   ]
  },
  {
   "cell_type": "code",
   "execution_count": null,
   "id": "65170ecd-629e-45a8-9701-ed8845a1cc94",
   "metadata": {},
   "outputs": [],
   "source": [
    "def returncos(x):\n",
    "    return cos(x)"
   ]
  },
  {
   "cell_type": "markdown",
   "id": "8fc9dc80-b414-4abe-b936-051b5ab6b98b",
   "metadata": {},
   "source": [
    "This function will return cos(x) of any value x passed to the function"
   ]
  },
  {
   "cell_type": "code",
   "execution_count": null,
   "id": "b2325fc5-47f3-405f-a5c2-45186d6c2781",
   "metadata": {},
   "outputs": [],
   "source": [
    "def tabulate(x,y):\n",
    "    "
   ]
  }
 ],
 "metadata": {
  "kernelspec": {
   "display_name": "Python 3 (ipykernel)",
   "language": "python",
   "name": "python3"
  },
  "language_info": {
   "codemirror_mode": {
    "name": "ipython",
    "version": 3
   },
   "file_extension": ".py",
   "mimetype": "text/x-python",
   "name": "python",
   "nbconvert_exporter": "python",
   "pygments_lexer": "ipython3",
   "version": "3.10.7"
  }
 },
 "nbformat": 4,
 "nbformat_minor": 5
}
